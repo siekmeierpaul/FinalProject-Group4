{
 "cells": [
  {
   "cell_type": "code",
   "execution_count": null,
   "metadata": {},
   "outputs": [],
   "source": [
    "%matplotlib inline\n",
    "import matplotlib.pyplot as plt\n",
    "import pandas as pd\n",
    "import os\n",
    "from sklearn.model_selection import train_test_split\n",
    "from sklearn.linear_model import LogisticRegression"
   ]
  },
  {
   "cell_type": "markdown",
   "metadata": {},
   "source": [
    "Attribute Information:\n",
    "\n",
    "1. If one of us apologizes when our discussion deteriorates, the discussion ends.\n",
    "2. I know we can ignore our differences, even if things get hard sometimes.\n",
    "3. When we need it, we can take our discussions with my spouse from the beginning and correct it.\n",
    "4. When I discuss with my spouse, to contact him will eventually work.\n",
    "5. The time I spent with my wife is special for us.\n",
    "6. We don't have time at home as partners.\n",
    "7. We are like two strangers who share the same environment at home rather than family.\n",
    "8. I enjoy our holidays with my wife.\n",
    "9. I enjoy traveling with my wife.\n",
    "10. Most of our goals are common to my spouse.\n",
    "11. I think that one day in the future, when I look back, I see that my spouse and I have been in harmony with each other.\n",
    "12. My spouse and I have similar values in terms of personal freedom.\n",
    "13. My spouse and I have similar sense of entertainment.\n",
    "14. Most of our goals for people (children, friends, etc.) are the same.\n",
    "15. Our dreams with my spouse are similar and harmonious.\n",
    "16. We're compatible with my spouse about what love should be.\n",
    "17. We share the same views about being happy in our life with my spouse\n",
    "18. My spouse and I have similar ideas about how marriage should be\n",
    "19. My spouse and I have similar ideas about how roles should be in marriage\n",
    "20. My spouse and I have similar values in trust.\n",
    "21. I know exactly what my wife likes.\n",
    "22. I know how my spouse wants to be taken care of when she/he sick.\n",
    "23. I know my spouse's favorite food.\n",
    "24. I can tell you what kind of stress my spouse is facing in her/his life.\n",
    "25. I have knowledge of my spouse's inner world.\n",
    "26. I know my spouse's basic anxieties.\n",
    "27. I know what my spouse's current sources of stress are.\n",
    "28. I know my spouse's hopes and wishes.\n",
    "29. I know my spouse very well.\n",
    "30. I know my spouse's friends and their social relationships.\n",
    "31. I feel aggressive when I argue with my spouse.\n",
    "32. When discussing with my spouse, I usually use expressions such as ‘you always’ or ‘you never’ .\n",
    "33. I can use negative statements about my spouse's personality during our discussions.\n",
    "34. I can use offensive expressions during our discussions.\n",
    "35. I can insult my spouse during our discussions.\n",
    "36. I can be humiliating when we discussions.\n",
    "37. My discussion with my spouse is not calm.\n",
    "38. I hate my spouse's way of open a subject.\n",
    "39. Our discussions often occur suddenly.\n",
    "40. We're just starting a discussion before I know what's going on.\n",
    "41. When I talk to my spouse about something, my calm suddenly breaks.\n",
    "42. When I argue with my spouse, ı only go out and I don't say a word.\n",
    "43. I mostly stay silent to calm the environment a little bit.\n",
    "44. Sometimes I think it's good for me to leave home for a while.\n",
    "45. I'd rather stay silent than discuss with my spouse.\n",
    "46. Even if I'm right in the discussion, I stay silent to hurt my spouse.\n",
    "47. When I discuss with my spouse, I stay silent because I am afraid of not being able to control my anger.\n",
    "48. I feel right in our discussions.\n",
    "49. I have nothing to do with what I've been accused of.\n",
    "50. I'm not actually the one who's guilty about what I'm accused of.\n",
    "51. I'm not the one who's wrong about problems at home.\n",
    "52. I wouldn't hesitate to tell my spouse about her/his inadequacy.\n",
    "53. When I discuss, I remind my spouse of her/his inadequacy.\n",
    "54. I'm not afraid to tell my spouse about her/his incompetence.\n",
    "\n",
    "COL 55: 1 = Divorced, 0 = Married\n",
    "\n",
    "The answers were on a scale from 0-4"
   ]
  },
  {
   "cell_type": "code",
   "execution_count": null,
   "metadata": {},
   "outputs": [],
   "source": [
    "data = pd.read_csv('divorce.csv')"
   ]
  },
  {
   "cell_type": "code",
   "execution_count": null,
   "metadata": {},
   "outputs": [],
   "source": [
    "data"
   ]
  },
  {
   "cell_type": "code",
   "execution_count": null,
   "metadata": {},
   "outputs": [],
   "source": []
  },
  {
   "cell_type": "code",
   "execution_count": null,
   "metadata": {},
   "outputs": [],
   "source": []
  },
  {
   "cell_type": "code",
   "execution_count": null,
   "metadata": {},
   "outputs": [],
   "source": []
  },
  {
   "cell_type": "code",
   "execution_count": null,
   "metadata": {},
   "outputs": [],
   "source": []
  },
  {
   "cell_type": "code",
   "execution_count": null,
   "metadata": {},
   "outputs": [],
   "source": []
  }
 ],
 "metadata": {
  "kernelspec": {
   "display_name": "Python 3",
   "language": "python",
   "name": "python3"
  },
  "language_info": {
   "codemirror_mode": {
    "name": "ipython",
    "version": 3
   },
   "file_extension": ".py",
   "mimetype": "text/x-python",
   "name": "python",
   "nbconvert_exporter": "python",
   "pygments_lexer": "ipython3",
   "version": "3.6.12"
  }
 },
 "nbformat": 4,
 "nbformat_minor": 4
}
